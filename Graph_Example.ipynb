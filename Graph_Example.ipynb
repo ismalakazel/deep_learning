{
 "cells": [
  {
   "cell_type": "code",
   "execution_count": 1,
   "metadata": {
    "collapsed": true,
    "deletable": true,
    "editable": true
   },
   "outputs": [],
   "source": [
    "import tensorflow as tf"
   ]
  },
  {
   "cell_type": "code",
   "execution_count": 2,
   "metadata": {
    "collapsed": false,
    "deletable": true,
    "editable": true
   },
   "outputs": [],
   "source": [
    "graph = tf.Graph()\n",
    "with graph.as_default():\n",
    "    with tf.name_scope(\"variables\"):\n",
    "        #variables to keep track of how many times the graph has been run\n",
    "        global_step = tf.Variable(0, dtype=tf.int32, trainable=False, name=\"global_step\")\n",
    "        #variable that keeps track of the sum of all output values over time:\n",
    "        total_output = tf.Variable(0.0, dtype=tf.float32, trainable=False, name=\"total_output\")\n",
    "    \n",
    "    with tf.name_scope(\"transformation\"):\n",
    "        #Separate input layer\n",
    "        with tf.name_scope(\"input\"):\n",
    "            #Create input placeholder - takes in a vector\n",
    "            a =  tf.placeholder(tf.float32, shape=[None], name=\"input_placeholder_a\")\n",
    "        #Separate middle layer\n",
    "        with tf.name_scope(\"intermediate_layer\"):\n",
    "            b = tf.reduce_prod(a, name=\"product_b\")\n",
    "            c = tf.reduce_sum(a, name=\"sum_c\")\n",
    "        #Separete output layer\n",
    "        with tf.name_scope(\"output_layer\"):\n",
    "            output = tf.add(b, c, name=\"output\")\n",
    "            \n",
    "    with tf.name_scope(\"update\"):\n",
    "        #Increments the total_output Variable by the latest output\n",
    "        update_total = total_output.assign_add(output)\n",
    "        #Increments the above total_step Variable, should be run whenever the graph is run\n",
    "        increment_step = global_step.assign_add(1)\n",
    "    \n",
    "    with tf.name_scope(\"summaries\"):\n",
    "        avg = tf.div(update_total, tf.cast(increment_step, tf.float32), name=\"average\")\n",
    "        #Creates summaries for output node\n",
    "        tf.summary.scalar(\"Output\", output)\n",
    "        tf.summary.scalar(\"Sum_of_outputs_over_time\", update_total)\n",
    "        tf.summary.scalar(\"Average_of_outputs_over_time\", avg)\n",
    "        \n",
    "    with tf.name_scope(\"global_ops\"):\n",
    "        #Initialize\n",
    "        init = tf.global_variables_initializer()\n",
    "        merged_summaries = tf.summary.merge_all()"
   ]
  },
  {
   "cell_type": "code",
   "execution_count": 5,
   "metadata": {
    "collapsed": true,
    "deletable": true,
    "editable": true
   },
   "outputs": [],
   "source": [
    "session = tf.Session(graph=graph)\n",
    "writer = tf.summary.FileWriter(\"./improved_graph\", graph)\n",
    "session.run(init)"
   ]
  },
  {
   "cell_type": "code",
   "execution_count": 6,
   "metadata": {
    "collapsed": false,
    "deletable": true,
    "editable": true
   },
   "outputs": [],
   "source": [
    "def run_graph(input_tensor):\n",
    "    feed_dict = {a: input_tensor}\n",
    "    _, step, summary = session.run([output, increment_step, merged_summaries], feed_dict=feed_dict)\n",
    "    writer.add_summary(summary, global_step=step)\n",
    "    \n",
    "run_graph([2, 8])\n",
    "run_graph([3.1, 3, 3])\n",
    "run_graph([8])\n",
    "run_graph([11, 4])"
   ]
  },
  {
   "cell_type": "code",
   "execution_count": 7,
   "metadata": {
    "collapsed": true,
    "deletable": true,
    "editable": true
   },
   "outputs": [],
   "source": [
    "writer.flush()\n",
    "writer.close()\n",
    "session.close()"
   ]
  },
  {
   "cell_type": "code",
   "execution_count": null,
   "metadata": {
    "collapsed": true
   },
   "outputs": [],
   "source": []
  }
 ],
 "metadata": {
  "kernelspec": {
   "display_name": "Python 3",
   "language": "python",
   "name": "python3"
  },
  "language_info": {
   "codemirror_mode": {
    "name": "ipython",
    "version": 3
   },
   "file_extension": ".py",
   "mimetype": "text/x-python",
   "name": "python",
   "nbconvert_exporter": "python",
   "pygments_lexer": "ipython3",
   "version": "3.5.2"
  },
  "widgets": {
   "state": {},
   "version": "1.1.2"
  }
 },
 "nbformat": 4,
 "nbformat_minor": 2
}

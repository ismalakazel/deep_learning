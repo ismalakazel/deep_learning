{
 "cells": [
  {
   "cell_type": "code",
   "execution_count": 1,
   "metadata": {
    "collapsed": true,
    "deletable": true,
    "editable": true
   },
   "outputs": [],
   "source": [
    "import random"
   ]
  },
  {
   "cell_type": "code",
   "execution_count": 3,
   "metadata": {
    "collapsed": false,
    "deletable": true,
    "editable": true
   },
   "outputs": [],
   "source": [
    "def f(x):\n",
    "    \"\"\"\n",
    "    Quadratic function.\n",
    "\n",
    "    It's easy to see the minimum value of the function\n",
    "    is 5 when is x=0.\n",
    "    \"\"\"\n",
    "    return x**2 + 5\n",
    "\n",
    "def df(x):\n",
    "    \"\"\"\n",
    "    Derivative of `f` with respect to `x`.\n",
    "    \"\"\"\n",
    "    return 2*x\n",
    "\n",
    "def gradient_descent_update(x, gradx, learning_rate):\n",
    "    \"\"\"\n",
    "    Performs a gradient descent update.\n",
    "    \"\"\"\n",
    "    return x - gradx * learning_rate"
   ]
  },
  {
   "cell_type": "code",
   "execution_count": 4,
   "metadata": {
    "collapsed": false,
    "deletable": true,
    "editable": true
   },
   "outputs": [
    {
     "name": "stdout",
     "output_type": "stream",
     "text": [
      "EPOCH 0: Cost = 90744681.000, x = 19052.000\n",
      "EPOCH 1: Cost = 58076597.640, x = 15241.600\n",
      "EPOCH 2: Cost = 37169024.290, x = 12193.280\n",
      "EPOCH 3: Cost = 23788177.345, x = 9754.624\n",
      "EPOCH 4: Cost = 15224435.301, x = 7803.699\n",
      "EPOCH 5: Cost = 9743640.393, x = 6242.959\n",
      "EPOCH 6: Cost = 6235931.651, x = 4994.367\n",
      "EPOCH 7: Cost = 3990998.057, x = 3995.494\n",
      "EPOCH 8: Cost = 2554240.556, x = 3196.395\n",
      "EPOCH 9: Cost = 1634715.756, x = 2557.116\n",
      "EPOCH 10: Cost = 1046219.884, x = 2045.693\n",
      "EPOCH 11: Cost = 669582.526, x = 1636.554\n",
      "EPOCH 12: Cost = 428534.616, x = 1309.243\n",
      "EPOCH 13: Cost = 274263.955, x = 1047.395\n",
      "EPOCH 14: Cost = 175530.731, x = 837.916\n",
      "EPOCH 15: Cost = 112341.468, x = 670.333\n",
      "EPOCH 16: Cost = 71900.339, x = 536.266\n",
      "EPOCH 17: Cost = 46018.017, x = 429.013\n",
      "EPOCH 18: Cost = 29453.331, x = 343.210\n",
      "EPOCH 19: Cost = 18851.932, x = 274.568\n",
      "EPOCH 20: Cost = 12067.036, x = 219.655\n",
      "EPOCH 21: Cost = 7724.703, x = 175.724\n",
      "EPOCH 22: Cost = 4945.610, x = 140.579\n",
      "EPOCH 23: Cost = 3166.990, x = 112.463\n",
      "EPOCH 24: Cost = 2028.674, x = 89.971\n",
      "EPOCH 25: Cost = 1300.151, x = 71.976\n",
      "EPOCH 26: Cost = 833.897, x = 57.581\n",
      "EPOCH 27: Cost = 535.494, x = 46.065\n",
      "EPOCH 28: Cost = 344.516, x = 36.852\n",
      "EPOCH 29: Cost = 222.290, x = 29.482\n",
      "EPOCH 30: Cost = 144.066, x = 23.585\n",
      "EPOCH 31: Cost = 94.002, x = 18.868\n",
      "EPOCH 32: Cost = 61.961, x = 15.095\n",
      "EPOCH 33: Cost = 41.455, x = 12.076\n",
      "EPOCH 34: Cost = 28.331, x = 9.661\n",
      "EPOCH 35: Cost = 19.932, x = 7.728\n",
      "EPOCH 36: Cost = 14.557, x = 6.183\n",
      "EPOCH 37: Cost = 11.116, x = 4.946\n",
      "EPOCH 38: Cost = 8.914, x = 3.957\n",
      "EPOCH 39: Cost = 7.505, x = 3.166\n",
      "EPOCH 40: Cost = 6.603, x = 2.532\n",
      "EPOCH 41: Cost = 6.026, x = 2.026\n",
      "EPOCH 42: Cost = 5.657, x = 1.621\n",
      "EPOCH 43: Cost = 5.420, x = 1.297\n",
      "EPOCH 44: Cost = 5.269, x = 1.037\n",
      "EPOCH 45: Cost = 5.172, x = 0.830\n",
      "EPOCH 46: Cost = 5.110, x = 0.664\n",
      "EPOCH 47: Cost = 5.071, x = 0.531\n",
      "EPOCH 48: Cost = 5.045, x = 0.425\n",
      "EPOCH 49: Cost = 5.029, x = 0.340\n",
      "EPOCH 50: Cost = 5.018, x = 0.272\n",
      "EPOCH 51: Cost = 5.012, x = 0.218\n",
      "EPOCH 52: Cost = 5.008, x = 0.174\n",
      "EPOCH 53: Cost = 5.005, x = 0.139\n",
      "EPOCH 54: Cost = 5.003, x = 0.111\n",
      "EPOCH 55: Cost = 5.002, x = 0.089\n",
      "EPOCH 56: Cost = 5.001, x = 0.071\n",
      "EPOCH 57: Cost = 5.001, x = 0.057\n",
      "EPOCH 58: Cost = 5.001, x = 0.046\n",
      "EPOCH 59: Cost = 5.000, x = 0.036\n",
      "EPOCH 60: Cost = 5.000, x = 0.029\n",
      "EPOCH 61: Cost = 5.000, x = 0.023\n",
      "EPOCH 62: Cost = 5.000, x = 0.019\n",
      "EPOCH 63: Cost = 5.000, x = 0.015\n",
      "EPOCH 64: Cost = 5.000, x = 0.012\n",
      "EPOCH 65: Cost = 5.000, x = 0.010\n",
      "EPOCH 66: Cost = 5.000, x = 0.008\n",
      "EPOCH 67: Cost = 5.000, x = 0.006\n",
      "EPOCH 68: Cost = 5.000, x = 0.005\n",
      "EPOCH 69: Cost = 5.000, x = 0.004\n",
      "EPOCH 70: Cost = 5.000, x = 0.003\n",
      "EPOCH 71: Cost = 5.000, x = 0.003\n",
      "EPOCH 72: Cost = 5.000, x = 0.002\n",
      "EPOCH 73: Cost = 5.000, x = 0.002\n",
      "EPOCH 74: Cost = 5.000, x = 0.001\n",
      "EPOCH 75: Cost = 5.000, x = 0.001\n",
      "EPOCH 76: Cost = 5.000, x = 0.001\n",
      "EPOCH 77: Cost = 5.000, x = 0.001\n",
      "EPOCH 78: Cost = 5.000, x = 0.001\n",
      "EPOCH 79: Cost = 5.000, x = 0.000\n",
      "EPOCH 80: Cost = 5.000, x = 0.000\n",
      "EPOCH 81: Cost = 5.000, x = 0.000\n",
      "EPOCH 82: Cost = 5.000, x = 0.000\n",
      "EPOCH 83: Cost = 5.000, x = 0.000\n",
      "EPOCH 84: Cost = 5.000, x = 0.000\n",
      "EPOCH 85: Cost = 5.000, x = 0.000\n",
      "EPOCH 86: Cost = 5.000, x = 0.000\n",
      "EPOCH 87: Cost = 5.000, x = 0.000\n",
      "EPOCH 88: Cost = 5.000, x = 0.000\n",
      "EPOCH 89: Cost = 5.000, x = 0.000\n",
      "EPOCH 90: Cost = 5.000, x = 0.000\n",
      "EPOCH 91: Cost = 5.000, x = 0.000\n",
      "EPOCH 92: Cost = 5.000, x = 0.000\n",
      "EPOCH 93: Cost = 5.000, x = 0.000\n",
      "EPOCH 94: Cost = 5.000, x = 0.000\n",
      "EPOCH 95: Cost = 5.000, x = 0.000\n",
      "EPOCH 96: Cost = 5.000, x = 0.000\n",
      "EPOCH 97: Cost = 5.000, x = 0.000\n",
      "EPOCH 98: Cost = 5.000, x = 0.000\n",
      "EPOCH 99: Cost = 5.000, x = 0.000\n",
      "EPOCH 100: Cost = 5.000, x = 0.000\n"
     ]
    }
   ],
   "source": [
    "# Random number better 0 and 10,000. Feel free to set x whatever you like.\n",
    "x = random.randint(0, 10000)\n",
    "# TODO: Set the learning rate\n",
    "learning_rate = 0.1\n",
    "epochs = 100\n",
    "\n",
    "for i in range(epochs+1):\n",
    "    cost = f(x)\n",
    "    gradx = df(x)\n",
    "    print(\"EPOCH {}: Cost = {:.3f}, x = {:.3f}\".format(i, cost, gradx))\n",
    "    x = gradient_descent_update(x, gradx, learning_rate)"
   ]
  },
  {
   "cell_type": "code",
   "execution_count": null,
   "metadata": {
    "collapsed": true,
    "deletable": true,
    "editable": true
   },
   "outputs": [],
   "source": []
  }
 ],
 "metadata": {
  "kernelspec": {
   "display_name": "Python 3",
   "language": "python",
   "name": "python3"
  },
  "language_info": {
   "codemirror_mode": {
    "name": "ipython",
    "version": 3
   },
   "file_extension": ".py",
   "mimetype": "text/x-python",
   "name": "python",
   "nbconvert_exporter": "python",
   "pygments_lexer": "ipython3",
   "version": "3.5.2"
  },
  "widgets": {
   "state": {},
   "version": "1.1.2"
  }
 },
 "nbformat": 4,
 "nbformat_minor": 2
}
